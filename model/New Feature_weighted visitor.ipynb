{
 "cells": [
  {
   "cell_type": "code",
   "execution_count": 2,
   "metadata": {
    "ExecuteTime": {
     "end_time": "2018-01-31T04:24:53.973382Z",
     "start_time": "2018-01-31T04:24:53.537551Z"
    },
    "collapsed": true
   },
   "outputs": [],
   "source": [
    "import pandas as pd\n",
    "import numpy as np"
   ]
  },
  {
   "cell_type": "markdown",
   "metadata": {},
   "source": [
    "# Update air visits"
   ]
  },
  {
   "cell_type": "code",
   "execution_count": 3,
   "metadata": {
    "ExecuteTime": {
     "end_time": "2018-01-31T04:24:54.331527Z",
     "start_time": "2018-01-31T04:24:53.975269Z"
    },
    "collapsed": true
   },
   "outputs": [],
   "source": [
    "air_visits = pd.read_csv('../input/air_visit_data.csv')\n",
    "air_reserve = pd.read_csv('../input/air_reserve.csv')\n",
    "air_store_info = pd.read_csv('../input/air_store_info.csv')\n",
    "date_info = pd.read_csv('../input/date_info.csv').rename(columns={'calendar_date':'visit_date'})\n",
    "sample_submission = pd.read_csv('../input/sample_submission.csv')"
   ]
  },
  {
   "cell_type": "code",
   "execution_count": 4,
   "metadata": {
    "ExecuteTime": {
     "end_time": "2018-01-31T04:24:54.382580Z",
     "start_time": "2018-01-31T04:24:54.333551Z"
    },
    "collapsed": true
   },
   "outputs": [],
   "source": [
    "wkend_holidays = date_info.apply(lambda x: (x.day_of_week=='Sunday' or x.day_of_week=='Saturday') and x.holiday_flg==1, axis=1)\n",
    "date_info.loc[wkend_holidays, 'holiday_flg'] = 0\n",
    "date_info['weight'] = ((date_info.index + 1) / len(date_info)) ** 5 "
   ]
  },
  {
   "cell_type": "code",
   "execution_count": 5,
   "metadata": {
    "ExecuteTime": {
     "end_time": "2018-01-31T04:24:54.926665Z",
     "start_time": "2018-01-31T04:24:54.402270Z"
    },
    "collapsed": true
   },
   "outputs": [],
   "source": [
    "visit_data = air_visits.merge(date_info, on='visit_date', how='left')\n",
    "visit_data['visitors'] = visit_data.visitors.map(pd.np.log1p)"
   ]
  },
  {
   "cell_type": "code",
   "execution_count": 7,
   "metadata": {
    "ExecuteTime": {
     "end_time": "2018-01-31T06:42:24.650878Z",
     "start_time": "2018-01-31T04:25:07.374285Z"
    },
    "collapsed": true
   },
   "outputs": [
    {
     "name": "stdout",
     "output_type": "stream",
     "text": [
      "1000\n",
      "2000\n",
      "3000\n",
      "4000\n",
      "5000\n",
      "6000\n",
      "7000\n",
      "8000\n",
      "9000\n",
      "10000\n",
      "11000\n",
      "12000\n",
      "13000\n",
      "14000\n",
      "15000\n",
      "16000\n",
      "17000\n",
      "18000\n",
      "19000\n",
      "20000\n",
      "21000\n",
      "22000\n",
      "23000\n",
      "24000\n",
      "25000\n",
      "26000\n",
      "27000\n",
      "28000\n",
      "29000\n",
      "30000\n",
      "31000\n",
      "32000\n",
      "33000\n",
      "34000\n",
      "35000\n",
      "36000\n",
      "37000\n",
      "38000\n",
      "39000\n",
      "40000\n",
      "41000\n",
      "42000\n",
      "43000\n",
      "44000\n",
      "45000\n",
      "46000\n",
      "47000\n",
      "48000\n",
      "49000\n",
      "50000\n",
      "51000\n",
      "52000\n",
      "53000\n",
      "54000\n",
      "55000\n",
      "56000\n",
      "57000\n",
      "58000\n",
      "59000\n",
      "60000\n",
      "61000\n",
      "62000\n",
      "63000\n",
      "64000\n",
      "65000\n",
      "66000\n",
      "67000\n",
      "68000\n",
      "69000\n",
      "70000\n",
      "71000\n",
      "72000\n",
      "73000\n",
      "74000\n",
      "75000\n",
      "76000\n",
      "77000\n",
      "78000\n",
      "79000\n",
      "80000\n",
      "81000\n",
      "82000\n",
      "83000\n",
      "84000\n",
      "85000\n",
      "86000\n",
      "87000\n",
      "88000\n",
      "89000\n",
      "90000\n",
      "91000\n",
      "92000\n",
      "93000\n",
      "94000\n",
      "95000\n",
      "96000\n",
      "97000\n",
      "98000\n",
      "99000\n",
      "100000\n",
      "101000\n",
      "102000\n",
      "103000\n",
      "104000\n",
      "105000\n",
      "106000\n",
      "107000\n",
      "108000\n",
      "109000\n",
      "110000\n",
      "111000\n",
      "112000\n",
      "113000\n",
      "114000\n",
      "115000\n",
      "116000\n",
      "117000\n",
      "118000\n",
      "119000\n",
      "120000\n",
      "121000\n",
      "122000\n",
      "123000\n",
      "124000\n",
      "125000\n",
      "126000\n",
      "127000\n",
      "128000\n",
      "129000\n",
      "130000\n",
      "131000\n",
      "132000\n",
      "133000\n",
      "134000\n",
      "135000\n",
      "136000\n",
      "137000\n",
      "138000\n",
      "139000\n",
      "140000\n",
      "141000\n",
      "142000\n",
      "143000\n",
      "144000\n",
      "145000\n",
      "146000\n",
      "147000\n",
      "148000\n",
      "149000\n",
      "150000\n",
      "151000\n",
      "152000\n",
      "153000\n",
      "154000\n",
      "155000\n",
      "156000\n",
      "157000\n",
      "158000\n",
      "159000\n",
      "160000\n",
      "161000\n",
      "162000\n",
      "163000\n",
      "164000\n",
      "165000\n",
      "166000\n",
      "167000\n",
      "168000\n",
      "169000\n",
      "170000\n",
      "171000\n",
      "172000\n",
      "173000\n",
      "174000\n",
      "175000\n",
      "176000\n",
      "177000\n",
      "178000\n",
      "179000\n",
      "180000\n",
      "181000\n",
      "182000\n",
      "183000\n",
      "184000\n",
      "185000\n",
      "186000\n",
      "187000\n",
      "188000\n",
      "189000\n",
      "190000\n",
      "191000\n",
      "192000\n",
      "193000\n",
      "194000\n",
      "195000\n",
      "196000\n",
      "197000\n",
      "198000\n",
      "199000\n",
      "200000\n",
      "201000\n",
      "202000\n",
      "203000\n",
      "204000\n",
      "205000\n",
      "206000\n",
      "207000\n",
      "208000\n",
      "209000\n",
      "210000\n",
      "211000\n",
      "212000\n",
      "213000\n",
      "214000\n",
      "215000\n",
      "216000\n",
      "217000\n",
      "218000\n",
      "219000\n",
      "220000\n",
      "221000\n",
      "222000\n",
      "223000\n",
      "224000\n",
      "225000\n",
      "226000\n",
      "227000\n",
      "228000\n",
      "229000\n",
      "230000\n",
      "231000\n",
      "232000\n",
      "233000\n",
      "234000\n",
      "235000\n",
      "236000\n",
      "237000\n",
      "238000\n",
      "239000\n",
      "240000\n",
      "241000\n",
      "242000\n",
      "243000\n",
      "244000\n",
      "245000\n",
      "246000\n",
      "247000\n",
      "248000\n",
      "249000\n",
      "250000\n",
      "251000\n",
      "252000\n"
     ]
    }
   ],
   "source": [
    "for i in range(6,len(visit_data)):\n",
    "    try:\n",
    "        dow = visit_data.iloc[i]['day_of_week']\n",
    "        flg = visit_data.iloc[i]['holiday_flg']\n",
    "        store_id = visit_data.iloc[i]['air_store_id']\n",
    "        top = visit_data[:i]\n",
    "        top = top[(top['day_of_week'] == dow) & (top['holiday_flg'] == flg) & (top['air_store_id'] == store_id)]\n",
    "        visitors = top.groupby(['air_store_id', 'day_of_week', 'holiday_flg']).apply(lambda x:( (x.weight * x.visitors).sum() / x.weight.sum() ))[0]\n",
    "        visit_data.at[i, 'weighted_visits'] = visitors\n",
    "    except:\n",
    "        pass\n",
    "    if i % 1000 == 0:\n",
    "        print (i)"
   ]
  },
  {
   "cell_type": "code",
   "execution_count": 8,
   "metadata": {
    "ExecuteTime": {
     "end_time": "2018-01-31T06:42:27.018191Z",
     "start_time": "2018-01-31T06:42:24.652993Z"
    },
    "collapsed": true
   },
   "outputs": [],
   "source": [
    "visit_data.to_csv('new_visit.csv', index=False)"
   ]
  },
  {
   "cell_type": "markdown",
   "metadata": {},
   "source": [
    "# Deal with missing values"
   ]
  },
  {
   "cell_type": "code",
   "execution_count": 54,
   "metadata": {
    "ExecuteTime": {
     "end_time": "2018-01-31T14:03:41.574508Z",
     "start_time": "2018-01-31T14:03:41.046892Z"
    },
    "collapsed": true
   },
   "outputs": [],
   "source": [
    "visit_data = pd.read_csv('new_visit.csv')\n",
    "date_info = pd.read_csv('../input/date_info.csv').rename(columns={'calendar_date':'visit_date'})\n",
    "visit_data.drop(['day_of_week', 'holiday_flg', 'weight'], axis=1, inplace= True)"
   ]
  },
  {
   "cell_type": "code",
   "execution_count": 55,
   "metadata": {
    "ExecuteTime": {
     "end_time": "2018-01-31T14:03:41.649259Z",
     "start_time": "2018-01-31T14:03:41.610191Z"
    },
    "collapsed": true
   },
   "outputs": [],
   "source": [
    "wkend_holidays = date_info.apply(lambda x: (x.day_of_week=='Sunday' or x.day_of_week=='Saturday') and x.holiday_flg==1, axis=1)\n",
    "date_info.loc[wkend_holidays, 'holiday_flg'] = 0\n",
    "date_info['weight'] = ((517 - date_info.index) / len(date_info)) ** 5"
   ]
  },
  {
   "cell_type": "code",
   "execution_count": 56,
   "metadata": {
    "ExecuteTime": {
     "end_time": "2018-01-31T14:03:42.434407Z",
     "start_time": "2018-01-31T14:03:42.374480Z"
    },
    "collapsed": true
   },
   "outputs": [],
   "source": [
    "visit_data = visit_data.merge(date_info, on='visit_date', how='left')"
   ]
  },
  {
   "cell_type": "code",
   "execution_count": 57,
   "metadata": {
    "ExecuteTime": {
     "end_time": "2018-01-31T14:10:55.834690Z",
     "start_time": "2018-01-31T14:03:44.118887Z"
    },
    "collapsed": true
   },
   "outputs": [
    {
     "name": "stdout",
     "output_type": "stream",
     "text": [
      "0\n",
      "1000\n",
      "2000\n",
      "3000\n",
      "4000\n",
      "5000\n",
      "6000\n",
      "7000\n",
      "8000\n",
      "9000\n",
      "10000\n",
      "11000\n",
      "12000\n",
      "13000\n",
      "14000\n",
      "15000\n",
      "16000\n",
      "17000\n",
      "18000\n",
      "19000\n",
      "20000\n",
      "21000\n",
      "22000\n",
      "23000\n",
      "24000\n",
      "25000\n",
      "26000\n",
      "27000\n",
      "28000\n",
      "29000\n",
      "30000\n",
      "31000\n",
      "32000\n",
      "33000\n",
      "34000\n",
      "35000\n",
      "36000\n",
      "37000\n",
      "38000\n",
      "39000\n",
      "40000\n",
      "41000\n",
      "42000\n",
      "43000\n",
      "44000\n",
      "45000\n",
      "46000\n",
      "47000\n",
      "48000\n",
      "49000\n",
      "50000\n",
      "51000\n",
      "52000\n",
      "53000\n",
      "54000\n",
      "55000\n",
      "56000\n",
      "57000\n",
      "58000\n",
      "59000\n",
      "60000\n",
      "61000\n",
      "62000\n",
      "63000\n",
      "64000\n",
      "65000\n",
      "66000\n",
      "67000\n",
      "68000\n",
      "69000\n",
      "70000\n",
      "71000\n",
      "72000\n",
      "73000\n",
      "74000\n",
      "75000\n",
      "76000\n",
      "77000\n",
      "78000\n",
      "79000\n",
      "80000\n",
      "81000\n",
      "82000\n",
      "83000\n",
      "84000\n",
      "85000\n",
      "86000\n",
      "87000\n",
      "88000\n",
      "89000\n",
      "90000\n",
      "91000\n",
      "92000\n",
      "93000\n",
      "94000\n",
      "95000\n",
      "96000\n",
      "97000\n",
      "98000\n",
      "99000\n",
      "100000\n",
      "101000\n",
      "102000\n",
      "103000\n",
      "104000\n",
      "105000\n",
      "106000\n",
      "107000\n",
      "108000\n",
      "109000\n",
      "110000\n",
      "111000\n",
      "112000\n",
      "113000\n",
      "114000\n",
      "115000\n",
      "116000\n",
      "117000\n",
      "118000\n",
      "119000\n",
      "120000\n",
      "121000\n",
      "122000\n",
      "123000\n",
      "124000\n",
      "125000\n",
      "126000\n",
      "127000\n",
      "128000\n",
      "129000\n",
      "130000\n",
      "131000\n",
      "132000\n",
      "133000\n",
      "134000\n",
      "135000\n",
      "136000\n",
      "137000\n",
      "138000\n",
      "139000\n",
      "140000\n",
      "141000\n",
      "142000\n",
      "143000\n",
      "144000\n",
      "145000\n",
      "146000\n",
      "147000\n",
      "148000\n",
      "149000\n",
      "150000\n",
      "151000\n",
      "152000\n",
      "153000\n",
      "154000\n",
      "155000\n",
      "156000\n",
      "157000\n",
      "158000\n",
      "159000\n",
      "160000\n",
      "161000\n",
      "162000\n",
      "163000\n",
      "164000\n",
      "165000\n",
      "166000\n",
      "167000\n",
      "168000\n",
      "169000\n",
      "170000\n",
      "171000\n",
      "172000\n",
      "173000\n",
      "174000\n",
      "175000\n",
      "176000\n",
      "177000\n",
      "178000\n",
      "179000\n",
      "180000\n",
      "181000\n",
      "182000\n",
      "183000\n",
      "184000\n",
      "185000\n",
      "186000\n",
      "187000\n",
      "188000\n",
      "189000\n",
      "190000\n",
      "191000\n",
      "192000\n",
      "193000\n",
      "194000\n",
      "195000\n",
      "196000\n",
      "197000\n",
      "198000\n",
      "199000\n",
      "200000\n",
      "201000\n",
      "202000\n",
      "203000\n",
      "204000\n",
      "205000\n",
      "206000\n",
      "207000\n",
      "208000\n",
      "209000\n",
      "210000\n",
      "211000\n",
      "212000\n",
      "213000\n",
      "214000\n",
      "215000\n",
      "216000\n",
      "217000\n",
      "218000\n",
      "219000\n",
      "220000\n",
      "221000\n",
      "222000\n",
      "223000\n",
      "224000\n",
      "225000\n",
      "226000\n",
      "227000\n",
      "228000\n",
      "229000\n",
      "230000\n",
      "231000\n",
      "232000\n",
      "233000\n",
      "234000\n",
      "235000\n",
      "236000\n",
      "237000\n",
      "238000\n",
      "239000\n",
      "240000\n",
      "241000\n",
      "242000\n",
      "243000\n",
      "244000\n",
      "245000\n",
      "246000\n",
      "247000\n",
      "248000\n",
      "249000\n",
      "250000\n",
      "251000\n",
      "252000\n"
     ]
    }
   ],
   "source": [
    "for i in range(0,len(visit_data)):\n",
    "    if pd.isnull(visit_data.iloc[i]['weighted_visits']):\n",
    "        try:\n",
    "            dow = visit_data.iloc[i]['day_of_week']\n",
    "            flg = visit_data.iloc[i]['holiday_flg']\n",
    "            store_id = visit_data.iloc[i]['air_store_id']\n",
    "            bottom = visit_data[i+1:]\n",
    "            bottom = bottom[(bottom['day_of_week'] == dow) & (bottom['holiday_flg'] == flg) & (bottom['air_store_id'] == store_id)]\n",
    "            visitors = bottom.groupby(['air_store_id', 'day_of_week', 'holiday_flg']).apply(lambda x:( (x.weight * x.visitors).sum() / x.weight.sum() ))[0]\n",
    "            visit_data.at[i, 'weighted_visits'] = visitors\n",
    "        except:\n",
    "            pass\n",
    "    if i % 1000 == 0:\n",
    "        print (i)"
   ]
  },
  {
   "cell_type": "code",
   "execution_count": 63,
   "metadata": {
    "ExecuteTime": {
     "end_time": "2018-01-31T15:49:27.825228Z",
     "start_time": "2018-01-31T15:49:27.760843Z"
    },
    "collapsed": true
   },
   "outputs": [],
   "source": [
    "group = visit_data.groupby(['air_store_id', 'day_of_week', 'holiday_flg'], as_index=False)[['weighted_visits']].mean()"
   ]
  },
  {
   "cell_type": "code",
   "execution_count": 67,
   "metadata": {
    "ExecuteTime": {
     "end_time": "2018-01-31T15:51:12.770463Z",
     "start_time": "2018-01-31T15:51:12.745732Z"
    },
    "collapsed": true
   },
   "outputs": [],
   "source": [
    "# fill missings with (air_store_id, day_of_week)\n",
    "missings = visit_data.weighted_visits.isnull()\n",
    "visit_data.loc[missings, 'weighted_visits'] = visit_data[missings].merge(\n",
    "    group[group.holiday_flg==0], on=('air_store_id', 'day_of_week'), how='left')['weighted_visits_y'].values"
   ]
  },
  {
   "cell_type": "code",
   "execution_count": 70,
   "metadata": {
    "ExecuteTime": {
     "end_time": "2018-01-31T15:53:52.140052Z",
     "start_time": "2018-01-31T15:53:52.118049Z"
    },
    "collapsed": true
   },
   "outputs": [],
   "source": [
    "missings = visit_data.weighted_visits.isnull()\n",
    "visit_data.loc[missings, 'weighted_visits'] = visit_data[missings].merge(\n",
    "    group[['air_store_id', 'weighted_visits']].groupby('air_store_id').mean().reset_index(), on='air_store_id', how='left')['weighted_visits_y'].values"
   ]
  },
  {
   "cell_type": "code",
   "execution_count": 72,
   "metadata": {
    "ExecuteTime": {
     "end_time": "2018-01-31T15:56:11.979537Z",
     "start_time": "2018-01-31T15:56:11.569168Z"
    },
    "collapsed": true
   },
   "outputs": [],
   "source": [
    "visit_data['weighted_visits'] = visit_data.weighted_visits.map(pd.np.expm1)"
   ]
  },
  {
   "cell_type": "code",
   "execution_count": 74,
   "metadata": {
    "ExecuteTime": {
     "end_time": "2018-01-31T15:57:17.119478Z",
     "start_time": "2018-01-31T15:57:14.633166Z"
    },
    "collapsed": true
   },
   "outputs": [],
   "source": [
    "visit_data.to_csv('weight_visit.csv', index=False)"
   ]
  },
  {
   "cell_type": "markdown",
   "metadata": {},
   "source": [
    "# Update sample submission"
   ]
  },
  {
   "cell_type": "markdown",
   "metadata": {
    "ExecuteTime": {
     "end_time": "2018-01-31T15:58:20.995765Z",
     "start_time": "2018-01-31T15:58:20.992221Z"
    }
   },
   "source": [
    "### use hklee result"
   ]
  },
  {
   "cell_type": "markdown",
   "metadata": {},
   "source": [
    "# merge with train val sub"
   ]
  },
  {
   "cell_type": "code",
   "execution_count": 77,
   "metadata": {
    "ExecuteTime": {
     "end_time": "2018-01-31T16:03:09.304466Z",
     "start_time": "2018-01-31T16:02:58.944851Z"
    },
    "collapsed": true
   },
   "outputs": [],
   "source": [
    "# read all the data\n",
    "train = pd.read_csv('../train/training_data2.csv')\n",
    "val = pd.read_csv('../train/validation_data2.csv')\n",
    "test = pd.read_csv('../train/submission_with_features2.csv')\n",
    "\n",
    "past_air_visit = pd.read_csv('weight_visit.csv')\n",
    "past_visits_sub = pd.read_csv('sub_weight_visits.csv')"
   ]
  },
  {
   "cell_type": "code",
   "execution_count": 88,
   "metadata": {
    "ExecuteTime": {
     "end_time": "2018-01-31T16:43:51.876111Z",
     "start_time": "2018-01-31T16:43:51.852669Z"
    },
    "scrolled": true
   },
   "outputs": [],
   "source": [
    "past_air_visit.drop(['day_of_week', 'holiday_flg', 'visitors','weight'], axis=1, inplace= True)"
   ]
  },
  {
   "cell_type": "code",
   "execution_count": 85,
   "metadata": {
    "ExecuteTime": {
     "end_time": "2018-01-31T16:19:39.470520Z",
     "start_time": "2018-01-31T16:19:38.944796Z"
    },
    "collapsed": true
   },
   "outputs": [],
   "source": [
    "visit_data2 = pd.read_csv('new_visit.csv')\n",
    "visit_data2.drop(['day_of_week', 'holiday_flg', 'visitors','weighted_visits'], axis=1, inplace= True)"
   ]
  },
  {
   "cell_type": "code",
   "execution_count": 90,
   "metadata": {
    "ExecuteTime": {
     "end_time": "2018-01-31T16:44:51.385527Z",
     "start_time": "2018-01-31T16:44:51.187793Z"
    }
   },
   "outputs": [],
   "source": [
    "past_air_visit = pd.merge(past_air_visit, visit_data2, how = 'left', on = ['air_store_id', 'visit_date'])"
   ]
  },
  {
   "cell_type": "code",
   "execution_count": 92,
   "metadata": {
    "ExecuteTime": {
     "end_time": "2018-01-31T16:45:14.239500Z",
     "start_time": "2018-01-31T16:45:12.812623Z"
    }
   },
   "outputs": [],
   "source": [
    "train = pd.merge(train, past_air_visit, how = 'left', on = ['air_store_id', 'visit_date'])\n",
    "val = pd.merge(val, past_air_visit, how = 'left', on = ['air_store_id', 'visit_date'])"
   ]
  },
  {
   "cell_type": "code",
   "execution_count": 96,
   "metadata": {
    "ExecuteTime": {
     "end_time": "2018-01-31T16:47:40.370376Z",
     "start_time": "2018-01-31T16:47:40.359935Z"
    }
   },
   "outputs": [],
   "source": [
    "past_visits_sub = past_visits_sub.rename(columns={'visitors':'weighted_visits'})"
   ]
  },
  {
   "cell_type": "code",
   "execution_count": 97,
   "metadata": {
    "ExecuteTime": {
     "end_time": "2018-01-31T16:47:46.146819Z",
     "start_time": "2018-01-31T16:47:45.974159Z"
    }
   },
   "outputs": [],
   "source": [
    "test = pd.merge(test, past_visits_sub, how = 'left', on = ['id'])"
   ]
  },
  {
   "cell_type": "code",
   "execution_count": 99,
   "metadata": {
    "ExecuteTime": {
     "end_time": "2018-01-31T16:49:12.715377Z",
     "start_time": "2018-01-31T16:48:40.357788Z"
    }
   },
   "outputs": [],
   "source": [
    "train.to_csv('training_data3.csv', index=False)\n",
    "val.to_csv('validation_data3.csv', index=False)\n",
    "test.to_csv('submission_with_features3.csv', index=False)"
   ]
  },
  {
   "cell_type": "code",
   "execution_count": null,
   "metadata": {
    "collapsed": true
   },
   "outputs": [],
   "source": []
  }
 ],
 "metadata": {
  "kernelspec": {
   "display_name": "Python 3",
   "language": "python",
   "name": "python3"
  },
  "language_info": {
   "codemirror_mode": {
    "name": "ipython",
    "version": 3
   },
   "file_extension": ".py",
   "mimetype": "text/x-python",
   "name": "python",
   "nbconvert_exporter": "python",
   "pygments_lexer": "ipython3",
   "version": "3.6.1"
  },
  "toc": {
   "colors": {
    "hover_highlight": "#DAA520",
    "navigate_num": "#000000",
    "navigate_text": "#333333",
    "running_highlight": "#FF0000",
    "selected_highlight": "#FFD700",
    "sidebar_border": "#EEEEEE",
    "wrapper_background": "#FFFFFF"
   },
   "moveMenuLeft": true,
   "nav_menu": {
    "height": "102px",
    "width": "252px"
   },
   "navigate_menu": true,
   "number_sections": true,
   "sideBar": true,
   "threshold": 4,
   "toc_cell": false,
   "toc_section_display": "block",
   "toc_window_display": true,
   "widenNotebook": false
  }
 },
 "nbformat": 4,
 "nbformat_minor": 2
}
